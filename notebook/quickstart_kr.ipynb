{
 "cells": [
  {
   "cell_type": "markdown",
   "metadata": {},
   "source": [
    "# pypapagtranslate 퀵 스타트 가이드(한국어)\n",
    "\n",
    "## 목차\n",
    "\n",
    "- 설치하기\n",
    "- NMT 이용 가이드\n",
    "- SMT 이용 가이드\n",
    "- 언어 인식 API 이용 가이드\n",
    "- 이름 로마자 변환 API 이용 가이드\n",
    "\n",
    "## 설치하기\n",
    "\n",
    "파이썬의 패키지 관리자 `pip`를 이용하여 설치합니다.\n",
    "\n",
    "```console\n",
    "foo@bar:~$ python3 -m pip install pypapagotranslate\n",
    "```\n",
    "\n",
    "```console\n",
    "foo@bar:~$ pip3 install pypapagotranslate\n",
    "```\n",
    "\n",
    "## NMT 이용 가이드\n",
    "\n",
    "NMT는 Neural Machine Translation(인공신경망 기반 기계번역)의 약어로, 인공신경망에 기반한 번역 방식입니다."
   ]
  },
  {
   "cell_type": "code",
   "execution_count": 1,
   "metadata": {},
   "outputs": [],
   "source": [
    "from pypapagotranslate.Translate import N2MT # API 이름"
   ]
  },
  {
   "cell_type": "code",
   "execution_count": 2,
   "metadata": {},
   "outputs": [],
   "source": [
    "import os\n",
    "n2mt_clientid = os.environ[\"N2MT_CLIENTID\"] # N2MT 클라이언트 ID\n",
    "n2mt_secret = os.environ[\"N2MT_SECRET\"] # N2MT 클라이언트 secret\n",
    "\n",
    "n2mt = N2MT(n2mt_clientid, n2mt_secret)"
   ]
  },
  {
   "cell_type": "code",
   "execution_count": 3,
   "metadata": {},
   "outputs": [
    {
     "name": "stdout",
     "output_type": "stream",
     "text": [
      "안녕 월드!\n",
      "----------\n",
      "en\n",
      "----------\n",
      "ko\n"
     ]
    }
   ],
   "source": [
    "sourcelang = \"en\"\n",
    "targetlang = \"ko\"\n",
    "text = \"Hello World!\"\n",
    "\n",
    "print(n2mt.translate(sourcelang, targetlang, text))\n",
    "print('-' * 10)\n",
    "print(n2mt.source)\n",
    "print('-' * 10)\n",
    "print(n2mt.target)"
   ]
  },
  {
   "cell_type": "markdown",
   "metadata": {},
   "source": [
    "## SMT 이용 가이드\n",
    "\n",
    "SMT(Statistical Machine Translation)는 통계 기반 기계 번역 기술로, 주로 신조어 번역에 강합니다."
   ]
  },
  {
   "cell_type": "code",
   "execution_count": 4,
   "metadata": {},
   "outputs": [],
   "source": [
    "from pypapagotranslate.Translate import SMT # API 이름"
   ]
  },
  {
   "cell_type": "code",
   "execution_count": 5,
   "metadata": {},
   "outputs": [],
   "source": [
    "import os\n",
    "smt_clientid = os.environ[\"SMT_CLIENTID\"] # SMT 클라이언트 ID\n",
    "smt_secret = os.environ[\"SMT_SECRET\"] # SMT 클라이언트 secret\n",
    "\n",
    "smt = SMT(smt_clientid, smt_secret)"
   ]
  },
  {
   "cell_type": "code",
   "execution_count": 6,
   "metadata": {},
   "outputs": [
    {
     "name": "stdout",
     "output_type": "stream",
     "text": [
      "너는 이미 죽었다.\n",
      "----------\n",
      "ja\n",
      "----------\n",
      "ko\n"
     ]
    }
   ],
   "source": [
    "sourcelang = \"ja\"\n",
    "targetlang = \"ko\"\n",
    "text = \"お前はもう死んでいる。\"\n",
    "\n",
    "print(smt.translate(sourcelang, targetlang, text))\n",
    "print('-' * 10)\n",
    "print(smt.source)\n",
    "print('-' * 10)\n",
    "print(smt.target)"
   ]
  },
  {
   "cell_type": "markdown",
   "metadata": {},
   "source": [
    "## 언어 감지 이용 가이드\n",
    "\n",
    "입력된 텍스트의 언어를 감지해주는 api입니다. 총 14개국(한국어, 일본어, 중국어 (간체, 번체), 힌디어, 영어, 스페인어, 프랑스어, 독일어, 포루트갈어, 베트남어, 인도네시아어, 태국어, 러시아어)의 언어를 감지할 수 있습니다."
   ]
  },
  {
   "cell_type": "code",
   "execution_count": 1,
   "metadata": {},
   "outputs": [],
   "source": [
    "from pypapagotranslate.LangDetect import LanguageDetect"
   ]
  },
  {
   "cell_type": "code",
   "execution_count": 3,
   "metadata": {},
   "outputs": [],
   "source": [
    "import os\n",
    "ld_client = os.environ[\"API_CLIENTID\"] # 언어 인식 클라이언트 ID\n",
    "ld_secret = os.environ[\"API_SECRET\"] # 언어 인식 클라이언트 secret\n",
    "\n",
    "ld = LanguageDetect(ld_client, ld_secret)"
   ]
  },
  {
   "cell_type": "code",
   "execution_count": 4,
   "metadata": {},
   "outputs": [
    {
     "name": "stdout",
     "output_type": "stream",
     "text": [
      "ja\n",
      "----------\n",
      "ああ、腹減ったなぁ\n"
     ]
    }
   ],
   "source": [
    "text = \"ああ、腹減ったなぁ\"\n",
    "\n",
    "print(ld.detect(text))\n",
    "print(\"-\" * 10)\n",
    "print(ld.context)"
   ]
  },
  {
   "cell_type": "markdown",
   "metadata": {},
   "source": [
    "## 이름 로마자 변환 API 이용 가이드\n",
    "\n",
    "한글로 된 이름을 로마자 표기로 변환해주는 API입니다. 현행 로마자 표기법을 따라 변환한 이름과 통계적으로 많이 사용되고 있는 로마자 이름도 함께 제안 받을 수 있습니다. score 키는 가장 많이 사용되는 정도를 나타냅니다."
   ]
  },
  {
   "cell_type": "code",
   "execution_count": 5,
   "metadata": {},
   "outputs": [],
   "source": [
    "from pypapagotranslate.NameRoman import NameRomanizer"
   ]
  },
  {
   "cell_type": "code",
   "execution_count": 6,
   "metadata": {},
   "outputs": [],
   "source": [
    "import os\n",
    "nr_client = os.environ[\"API_CLIENTID\"] # 이름 로마자 변환 클라이언트 ID\n",
    "nr_secret = os.environ[\"API_SECRET\"] # 이름 로마자  클라이언트 secret\n",
    "\n",
    "nr = NameRomanizer(nr_client, nr_secret)"
   ]
  },
  {
   "cell_type": "code",
   "execution_count": 7,
   "metadata": {},
   "outputs": [
    {
     "name": "stdout",
     "output_type": "stream",
     "text": [
      "[{'name': 'Hong Gildong', 'score': '99'}, {'name': 'Hong Kildong', 'score': '96'}, {'name': 'Hong Gildoung', 'score': '21'}, {'name': 'Hong Kildoung', 'score': '20'}]\n",
      "----------\n",
      "[{'name': 'Kim Chulsoo', 'score': '99'}, {'name': 'Kim Chulsu', 'score': '78'}, {'name': 'Kim Cheolsoo', 'score': '71'}, {'name': 'Kim Cheolsu', 'score': '56'}, {'name': 'Kim Chelsoo', 'score': '27'}, {'name': 'Kim Cholsoo', 'score': '21'}, {'name': 'Kim Chelsu', 'score': '21'}, {'name': 'Kim Cholsu', 'score': '16'}]\n"
     ]
    }
   ],
   "source": [
    "name1 = \"홍길동\"\n",
    "name2 = \"김철수\"\n",
    "\n",
    "print(nr.romanize(name1))\n",
    "print(\"-\" * 10)\n",
    "print(nr.romanize(name2))"
   ]
  }
 ],
 "metadata": {
  "kernelspec": {
   "display_name": "Python 3",
   "language": "python",
   "name": "python3"
  },
  "language_info": {
   "codemirror_mode": {
    "name": "ipython",
    "version": 3
   },
   "file_extension": ".py",
   "mimetype": "text/x-python",
   "name": "python",
   "nbconvert_exporter": "python",
   "pygments_lexer": "ipython3",
   "version": "3.6.7"
  }
 },
 "nbformat": 4,
 "nbformat_minor": 2
}
