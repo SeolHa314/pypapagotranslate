{
 "cells": [
  {
   "cell_type": "markdown",
   "metadata": {},
   "source": [
    "# pypapagtranslate 퀵 스타트 가이드(한국어)\n",
    "\n",
    "## 목차\n",
    "\n",
    "- 설치하기\n",
    "- NMT 이용 가이드\n",
    "- SMT 이용 가이드\n",
    "\n",
    "## 설치하기\n",
    "\n",
    "파이썬의 패키지 관리자 `pip`를 이용하여 설치합니다.\n",
    "\n",
    "```console\n",
    "foo@bar:~$ python3 -m pip install pypapagotranslate\n",
    "```\n",
    "\n",
    "```console\n",
    "foo@bar:~$ pip3 install pypapagotranslate\n",
    "```\n",
    "\n",
    "## NMT 이용 가이드\n",
    "\n",
    "NMT는 Neural Machine Translation(인공신경망 기반 기계번역)의 약어로, 인공신경망에 기반한 번역 방식입니다."
   ]
  },
  {
   "cell_type": "code",
   "execution_count": 1,
   "metadata": {},
   "outputs": [],
   "source": [
    "from pypapagotranslate import N2MT # API 이름"
   ]
  },
  {
   "cell_type": "code",
   "execution_count": 2,
   "metadata": {},
   "outputs": [],
   "source": [
    "import os\n",
    "n2mt_clientid = os.environ[\"N2MT_CLIENTID\"] # N2MT 클라이언트 ID\n",
    "n2mt_secret = os.environ[\"N2MT_SECRET\"] # N2MT 클라이언트 secret\n",
    "\n",
    "n2mt = N2MT(n2mt_clientid, n2mt_secret)"
   ]
  },
  {
   "cell_type": "code",
   "execution_count": 3,
   "metadata": {},
   "outputs": [
    {
     "name": "stdout",
     "output_type": "stream",
     "text": [
      "안녕 월드!\n",
      "----------\n",
      "en\n",
      "----------\n",
      "ko\n"
     ]
    }
   ],
   "source": [
    "sourcelang = \"en\"\n",
    "targetlang = \"ko\"\n",
    "text = \"Hello World!\"\n",
    "\n",
    "print(n2mt.translate(sourcelang, targetlang, text))\n",
    "print('-' * 10)\n",
    "print(n2mt.source)\n",
    "print('-' * 10)\n",
    "print(n2mt.target)"
   ]
  },
  {
   "cell_type": "markdown",
   "metadata": {},
   "source": [
    "## SMT 이용 가이드\n",
    "\n",
    "SMT(Statistical Machine Translation)는 통계 기반 기계 번역 기술로, 주로 신조어 번역에 강합니다."
   ]
  },
  {
   "cell_type": "code",
   "execution_count": 4,
   "metadata": {},
   "outputs": [],
   "source": [
    "from pypapagotranslate import SMT # API 이름"
   ]
  },
  {
   "cell_type": "code",
   "execution_count": 5,
   "metadata": {},
   "outputs": [],
   "source": [
    "import os\n",
    "smt_clientid = os.environ[\"SMT_CLIENTID\"] # SMT 클라이언트 ID\n",
    "smt_secret = os.environ[\"SMT_SECRET\"] # SMT 클라이언트 secret\n",
    "\n",
    "smt = SMT(smt_clientid, smt_secret)"
   ]
  },
  {
   "cell_type": "code",
   "execution_count": 6,
   "metadata": {},
   "outputs": [
    {
     "name": "stdout",
     "output_type": "stream",
     "text": [
      "너는 이미 죽었다.\n",
      "----------\n",
      "ja\n",
      "----------\n",
      "ko\n"
     ]
    }
   ],
   "source": [
    "sourcelang = \"ja\"\n",
    "targetlang = \"ko\"\n",
    "text = \"お前はもう死んでいる。\"\n",
    "\n",
    "print(smt.translate(sourcelang, targetlang, text))\n",
    "print('-' * 10)\n",
    "print(smt.source)\n",
    "print('-' * 10)\n",
    "print(smt.target)"
   ]
  }
 ],
 "metadata": {
  "kernelspec": {
   "display_name": "Python 3",
   "language": "python",
   "name": "python3"
  },
  "language_info": {
   "codemirror_mode": {
    "name": "ipython",
    "version": 3
   },
   "file_extension": ".py",
   "mimetype": "text/x-python",
   "name": "python",
   "nbconvert_exporter": "python",
   "pygments_lexer": "ipython3",
   "version": "3.6.7"
  }
 },
 "nbformat": 4,
 "nbformat_minor": 2
}
